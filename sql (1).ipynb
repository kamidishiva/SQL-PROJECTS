{
 "cells": [
  {
   "cell_type": "markdown",
   "metadata": {},
   "source": [
    "Python - MySQL\n",
    "1. MySQL Python connector\n",
    "\n",
    "\n",
    "Prerequisites:\n",
    "Root or Administrator privileges in order to perform the installation.\n",
    "Python installed on your system"
   ]
  },
  {
   "cell_type": "markdown",
   "metadata": {},
   "source": []
  },
  {
   "cell_type": "markdown",
   "metadata": {},
   "source": [
    "Installation\n",
    "pip install mysql-connector-python\n",
    "\n",
    "# If you found any issue while installing, you can explicitly specify the module version as follows:\n",
    "pip install mysql-connector-python==8.0.17"
   ]
  },
  {
   "cell_type": "code",
   "execution_count": 2,
   "metadata": {},
   "outputs": [],
   "source": [
    "## importing 'mysql.connector' as mysql \n",
    "import mysql.connector as mysql"
   ]
  },
  {
   "cell_type": "code",
   "execution_count": 3,
   "metadata": {},
   "outputs": [
    {
     "data": {
      "text/plain": [
       "'8.0.32'"
      ]
     },
     "execution_count": 3,
     "metadata": {},
     "output_type": "execute_result"
    }
   ],
   "source": [
    "mysql.__version__\n"
   ]
  },
  {
   "cell_type": "markdown",
   "metadata": {},
   "source": [
    "## 2. Connect to a MySQL Database in Python\n"
   ]
  },
  {
   "cell_type": "code",
   "execution_count": 4,
   "metadata": {},
   "outputs": [],
   "source": [
    "pwd_file = r'C:\\Users\\HP\\Desktop\\class\\SQL\\day9\\password.txt'"
   ]
  },
  {
   "cell_type": "code",
   "execution_count": 5,
   "metadata": {},
   "outputs": [],
   "source": [
    "with open(pwd_file) as f:\n",
    "    root_pwd = f.read()"
   ]
  },
  {
   "cell_type": "code",
   "execution_count": 6,
   "metadata": {},
   "outputs": [],
   "source": [
    "## connecting to the server using 'connect()' method\n",
    "## syntax: mysql.connect(host = 'host name', user='user name', password= 'password')\n",
    "db = mysql.connect(host = 'localhost', user ='root' , password =root_pwd )"
   ]
  },
  {
   "cell_type": "code",
   "execution_count": 7,
   "metadata": {},
   "outputs": [
    {
     "name": "stdout",
     "output_type": "stream",
     "text": [
      "<mysql.connector.connection_cext.CMySQLConnection object at 0x000002620B77D490>\n"
     ]
    }
   ],
   "source": [
    "print(db) # it will print a connection object if everything is fine\n"
   ]
  },
  {
   "cell_type": "markdown",
   "metadata": {},
   "source": [
    "If you see the following output, it means that you have been successfully installing the MySQL Connector/Python on your system.\n",
    "\n",
    "<mysql.connector.connection_cext.CMySQLConnection at 0x10dbe1c8ee0>"
   ]
  },
  {
   "cell_type": "code",
   "execution_count": 8,
   "metadata": {},
   "outputs": [
    {
     "data": {
      "text/plain": [
       "mysql.connector.connection_cext.CMySQLConnection"
      ]
     },
     "execution_count": 8,
     "metadata": {},
     "output_type": "execute_result"
    }
   ],
   "source": [
    "type(db)\n"
   ]
  },
  {
   "cell_type": "markdown",
   "metadata": {},
   "source": [
    "3. Manage Databases"
   ]
  },
  {
   "cell_type": "code",
   "execution_count": 9,
   "metadata": {},
   "outputs": [],
   "source": [
    "## creating an instance of 'cursor' class which is used to execute the 'SQL' statements in 'Python'\n",
    "\n",
    "cursor = db.cursor()"
   ]
  },
  {
   "cell_type": "code",
   "execution_count": 10,
   "metadata": {},
   "outputs": [
    {
     "data": {
      "text/plain": [
       "mysql.connector.cursor_cext.CMySQLCursor"
      ]
     },
     "execution_count": 10,
     "metadata": {},
     "output_type": "execute_result"
    }
   ],
   "source": [
    "type(cursor)\n"
   ]
  },
  {
   "cell_type": "code",
   "execution_count": 11,
   "metadata": {},
   "outputs": [],
   "source": [
    "# executing the statement using 'execute()' method\n",
    "cursor.execute('SHOW DATABASES')"
   ]
  },
  {
   "cell_type": "code",
   "execution_count": 12,
   "metadata": {},
   "outputs": [],
   "source": [
    "# 'fetchall()' method fetches all the rows from the last executed statement\n",
    "databases = cursor.fetchall()\n"
   ]
  },
  {
   "cell_type": "code",
   "execution_count": 13,
   "metadata": {},
   "outputs": [
    {
     "name": "stdout",
     "output_type": "stream",
     "text": [
      "[('codify',), ('demo',), ('information_schema',), ('lecab',), ('museum',), ('music',), ('mysql',), ('performance_schema',), ('retail',), ('student',), ('sys',), ('test',), ('testdb',)]\n"
     ]
    }
   ],
   "source": [
    "print(databases)\n"
   ]
  },
  {
   "cell_type": "code",
   "execution_count": 14,
   "metadata": {},
   "outputs": [
    {
     "name": "stdout",
     "output_type": "stream",
     "text": [
      "('codify',)\n",
      "('demo',)\n",
      "('information_schema',)\n",
      "('lecab',)\n",
      "('museum',)\n",
      "('music',)\n",
      "('mysql',)\n",
      "('performance_schema',)\n",
      "('retail',)\n",
      "('student',)\n",
      "('sys',)\n",
      "('test',)\n",
      "('testdb',)\n"
     ]
    }
   ],
   "source": [
    "for i in databases:\n",
    "    print(i)"
   ]
  },
  {
   "cell_type": "code",
   "execution_count": 15,
   "metadata": {},
   "outputs": [],
   "source": [
    "# Drop a Database\n",
    "\n",
    "cursor.execute('DROP DATABASE IF EXISTS testdb')"
   ]
  },
  {
   "cell_type": "code",
   "execution_count": 16,
   "metadata": {},
   "outputs": [],
   "source": [
    "# Create a Database\n",
    "\n",
    "cursor.execute('CREATE DATABASE testdb')"
   ]
  },
  {
   "cell_type": "markdown",
   "metadata": {},
   "source": [
    "4. crating table"
   ]
  },
  {
   "cell_type": "code",
   "execution_count": 38,
   "metadata": {},
   "outputs": [],
   "source": [
    "## connecting to the database using 'connect()' method\n",
    "\n",
    "db = mysql.connect(host = 'localhost', user = 'root', password = root_pwd, database = 'testdb')"
   ]
  },
  {
   "cell_type": "code",
   "execution_count": 39,
   "metadata": {},
   "outputs": [
    {
     "name": "stdout",
     "output_type": "stream",
     "text": [
      "<mysql.connector.connection_cext.CMySQLConnection object at 0x000002620B77DCA0>\n"
     ]
    }
   ],
   "source": [
    "print(db)\n"
   ]
  },
  {
   "cell_type": "code",
   "execution_count": 40,
   "metadata": {},
   "outputs": [],
   "source": [
    "cursor = db.cursor()\n"
   ]
  },
  {
   "cell_type": "code",
   "execution_count": 33,
   "metadata": {},
   "outputs": [],
   "source": [
    "# getting all the tables \n",
    "cursor.execute('SHOW TABLES')"
   ]
  },
  {
   "cell_type": "code",
   "execution_count": 34,
   "metadata": {},
   "outputs": [
    {
     "data": {
      "text/plain": [
       "[('sales',)]"
      ]
     },
     "execution_count": 34,
     "metadata": {},
     "output_type": "execute_result"
    }
   ],
   "source": [
    "# 'fetchall()' method fetches all the rows from the last executed statement\n",
    "cursor.fetchall()"
   ]
  },
  {
   "cell_type": "code",
   "execution_count": null,
   "metadata": {},
   "outputs": [],
   "source": []
  },
  {
   "cell_type": "code",
   "execution_count": 35,
   "metadata": {},
   "outputs": [],
   "source": [
    "create_query = '''DROP TABLE IF EXISTS sales;\n",
    "\n",
    "CREATE TABLE sales(\n",
    "    sales_employee VARCHAR(50) NOT NULL,\n",
    "    fiscal_year INT NOT NULL,\n",
    "    sale DECIMAL(14,2) NOT NULL,\n",
    "    PRIMARY KEY(sales_employee,fiscal_year)\n",
    ");'''"
   ]
  },
  {
   "cell_type": "code",
   "execution_count": 36,
   "metadata": {},
   "outputs": [],
   "source": [
    "cursor.execute(create_query)"
   ]
  },
  {
   "cell_type": "code",
   "execution_count": 41,
   "metadata": {},
   "outputs": [],
   "source": [
    "cursor.execute('SHOW TABLES')"
   ]
  },
  {
   "cell_type": "code",
   "execution_count": 43,
   "metadata": {},
   "outputs": [
    {
     "ename": "InternalError",
     "evalue": "Unread result found",
     "output_type": "error",
     "traceback": [
      "\u001b[1;31m---------------------------------------------------------------------------\u001b[0m",
      "\u001b[1;31mInternalError\u001b[0m                             Traceback (most recent call last)",
      "\u001b[1;32m~\\AppData\\Local\\Temp\\ipykernel_19320\\1680468196.py\u001b[0m in \u001b[0;36m<module>\u001b[1;34m\u001b[0m\n\u001b[0;32m      1\u001b[0m \u001b[1;31m# close the cursor\u001b[0m\u001b[1;33m\u001b[0m\u001b[1;33m\u001b[0m\u001b[0m\n\u001b[0;32m      2\u001b[0m \u001b[1;33m\u001b[0m\u001b[0m\n\u001b[1;32m----> 3\u001b[1;33m \u001b[0mcursor\u001b[0m\u001b[1;33m.\u001b[0m\u001b[0mclose\u001b[0m\u001b[1;33m(\u001b[0m\u001b[1;33m)\u001b[0m\u001b[1;33m\u001b[0m\u001b[1;33m\u001b[0m\u001b[0m\n\u001b[0m",
      "\u001b[1;32m~\\anaconda3\\lib\\site-packages\\mysql\\connector\\cursor_cext.py\u001b[0m in \u001b[0;36mclose\u001b[1;34m(self)\u001b[0m\n\u001b[0;32m    493\u001b[0m             \u001b[1;32mreturn\u001b[0m \u001b[1;32mFalse\u001b[0m\u001b[1;33m\u001b[0m\u001b[1;33m\u001b[0m\u001b[0m\n\u001b[0;32m    494\u001b[0m \u001b[1;33m\u001b[0m\u001b[0m\n\u001b[1;32m--> 495\u001b[1;33m         \u001b[0mself\u001b[0m\u001b[1;33m.\u001b[0m\u001b[0m_cnx\u001b[0m\u001b[1;33m.\u001b[0m\u001b[0mhandle_unread_result\u001b[0m\u001b[1;33m(\u001b[0m\u001b[1;33m)\u001b[0m\u001b[1;33m\u001b[0m\u001b[1;33m\u001b[0m\u001b[0m\n\u001b[0m\u001b[0;32m    496\u001b[0m         \u001b[0mself\u001b[0m\u001b[1;33m.\u001b[0m\u001b[0m_warnings\u001b[0m \u001b[1;33m=\u001b[0m \u001b[1;32mNone\u001b[0m\u001b[1;33m\u001b[0m\u001b[1;33m\u001b[0m\u001b[0m\n\u001b[0;32m    497\u001b[0m         \u001b[0mself\u001b[0m\u001b[1;33m.\u001b[0m\u001b[0m_cnx\u001b[0m \u001b[1;33m=\u001b[0m \u001b[1;32mNone\u001b[0m\u001b[1;33m\u001b[0m\u001b[1;33m\u001b[0m\u001b[0m\n",
      "\u001b[1;32m~\\anaconda3\\lib\\site-packages\\mysql\\connector\\connection_cext.py\u001b[0m in \u001b[0;36mhandle_unread_result\u001b[1;34m(self, prepared)\u001b[0m\n\u001b[0;32m    919\u001b[0m             \u001b[0mself\u001b[0m\u001b[1;33m.\u001b[0m\u001b[0mconsume_results\u001b[0m\u001b[1;33m(\u001b[0m\u001b[1;33m)\u001b[0m\u001b[1;33m\u001b[0m\u001b[1;33m\u001b[0m\u001b[0m\n\u001b[0;32m    920\u001b[0m         \u001b[1;32melif\u001b[0m \u001b[0munread_result\u001b[0m\u001b[1;33m:\u001b[0m\u001b[1;33m\u001b[0m\u001b[1;33m\u001b[0m\u001b[0m\n\u001b[1;32m--> 921\u001b[1;33m             \u001b[1;32mraise\u001b[0m \u001b[0mInternalError\u001b[0m\u001b[1;33m(\u001b[0m\u001b[1;34m\"Unread result found\"\u001b[0m\u001b[1;33m)\u001b[0m\u001b[1;33m\u001b[0m\u001b[1;33m\u001b[0m\u001b[0m\n\u001b[0m\u001b[0;32m    922\u001b[0m \u001b[1;33m\u001b[0m\u001b[0m\n\u001b[0;32m    923\u001b[0m     def reset_session(\n",
      "\u001b[1;31mInternalError\u001b[0m: Unread result found"
     ]
    }
   ],
   "source": [
    "# close the cursor\n",
    "\n",
    "cursor.close()"
   ]
  },
  {
   "cell_type": "code",
   "execution_count": 44,
   "metadata": {},
   "outputs": [],
   "source": [
    "db = mysql.connect(host = 'localhost', user = 'root', password = root_pwd, database = 'testdb')\n"
   ]
  },
  {
   "cell_type": "code",
   "execution_count": 45,
   "metadata": {},
   "outputs": [],
   "source": [
    "cursor = db.cursor()"
   ]
  },
  {
   "cell_type": "code",
   "execution_count": 46,
   "metadata": {},
   "outputs": [],
   "source": [
    "cursor.execute('SHOW TABLES')"
   ]
  },
  {
   "cell_type": "code",
   "execution_count": 47,
   "metadata": {},
   "outputs": [
    {
     "data": {
      "text/plain": [
       "[('sales',)]"
      ]
     },
     "execution_count": 47,
     "metadata": {},
     "output_type": "execute_result"
    }
   ],
   "source": [
    "cursor.fetchall()"
   ]
  },
  {
   "cell_type": "markdown",
   "metadata": {},
   "source": [
    "5. Insert data into table"
   ]
  },
  {
   "cell_type": "code",
   "execution_count": 48,
   "metadata": {},
   "outputs": [],
   "source": [
    "insert_query = '''INSERT INTO sales(sales_employee,fiscal_year,sale)\n",
    "VALUES('Bob',2016,100)'''"
   ]
  },
  {
   "cell_type": "markdown",
   "metadata": {},
   "source": [
    "Close the cursor and open it again before using it to execute another statement, in case of error."
   ]
  },
  {
   "cell_type": "code",
   "execution_count": 49,
   "metadata": {},
   "outputs": [
    {
     "data": {
      "text/plain": [
       "True"
      ]
     },
     "execution_count": 49,
     "metadata": {},
     "output_type": "execute_result"
    }
   ],
   "source": [
    "# close the cursor\n",
    "\n",
    "cursor.close()"
   ]
  },
  {
   "cell_type": "code",
   "execution_count": 50,
   "metadata": {},
   "outputs": [],
   "source": [
    "db = mysql.connect(host = 'localhost', user = 'root', password = root_pwd, database = 'testdb')\n",
    "cursor = db.cursor()"
   ]
  },
  {
   "cell_type": "code",
   "execution_count": 51,
   "metadata": {},
   "outputs": [],
   "source": [
    "cursor.execute(insert_query)"
   ]
  },
  {
   "cell_type": "code",
   "execution_count": 52,
   "metadata": {},
   "outputs": [],
   "source": [
    "select_query = 'SELECT * FROM sales'"
   ]
  },
  {
   "cell_type": "code",
   "execution_count": 53,
   "metadata": {},
   "outputs": [],
   "source": [
    "cursor.execute(select_query)"
   ]
  },
  {
   "cell_type": "code",
   "execution_count": 54,
   "metadata": {},
   "outputs": [
    {
     "data": {
      "text/plain": [
       "[('Bob', 2016, Decimal('100.00'))]"
      ]
     },
     "execution_count": 54,
     "metadata": {},
     "output_type": "execute_result"
    }
   ],
   "source": [
    "cursor.fetchall()"
   ]
  },
  {
   "cell_type": "code",
   "execution_count": 55,
   "metadata": {},
   "outputs": [],
   "source": [
    "# Insert multiple records\n",
    "\n",
    "insert_query = '''INSERT INTO sales(sales_employee,fiscal_year,sale)\n",
    "VALUES\n",
    "      ('Bob',2017,150),\n",
    "      ('Bob',2018,200),\n",
    "      ('Alice',2016,150),\n",
    "      ('Alice',2017,100),\n",
    "      ('Alice',2018,200),\n",
    "       ('John',2016,200),\n",
    "      ('John',2017,150),\n",
    "      ('John',2018,250);'''"
   ]
  },
  {
   "cell_type": "code",
   "execution_count": 56,
   "metadata": {},
   "outputs": [],
   "source": [
    "cursor.execute(insert_query)"
   ]
  },
  {
   "cell_type": "code",
   "execution_count": 57,
   "metadata": {},
   "outputs": [],
   "source": [
    "cursor.execute(select_query)"
   ]
  },
  {
   "cell_type": "code",
   "execution_count": 58,
   "metadata": {
    "scrolled": true
   },
   "outputs": [
    {
     "data": {
      "text/plain": [
       "[('Alice', 2016, Decimal('150.00')),\n",
       " ('Alice', 2017, Decimal('100.00')),\n",
       " ('Alice', 2018, Decimal('200.00')),\n",
       " ('Bob', 2016, Decimal('100.00')),\n",
       " ('Bob', 2017, Decimal('150.00')),\n",
       " ('Bob', 2018, Decimal('200.00')),\n",
       " ('John', 2016, Decimal('200.00')),\n",
       " ('John', 2017, Decimal('150.00')),\n",
       " ('John', 2018, Decimal('250.00'))]"
      ]
     },
     "execution_count": 58,
     "metadata": {},
     "output_type": "execute_result"
    }
   ],
   "source": [
    "cursor.fetchall()"
   ]
  },
  {
   "cell_type": "code",
   "execution_count": 59,
   "metadata": {},
   "outputs": [],
   "source": [
    "cursor.execute(select_query)"
   ]
  },
  {
   "cell_type": "code",
   "execution_count": 60,
   "metadata": {},
   "outputs": [],
   "source": [
    "data = cursor.fetchall()"
   ]
  },
  {
   "cell_type": "code",
   "execution_count": 61,
   "metadata": {},
   "outputs": [
    {
     "data": {
      "text/plain": [
       "list"
      ]
     },
     "execution_count": 61,
     "metadata": {},
     "output_type": "execute_result"
    }
   ],
   "source": [
    "type(data)"
   ]
  },
  {
   "cell_type": "code",
   "execution_count": 62,
   "metadata": {},
   "outputs": [
    {
     "data": {
      "text/plain": [
       "('Alice', 2016, Decimal('150.00'))"
      ]
     },
     "execution_count": 62,
     "metadata": {},
     "output_type": "execute_result"
    }
   ],
   "source": [
    "data[0]"
   ]
  },
  {
   "cell_type": "code",
   "execution_count": 63,
   "metadata": {
    "scrolled": true
   },
   "outputs": [
    {
     "data": {
      "text/plain": [
       "'Alice'"
      ]
     },
     "execution_count": 63,
     "metadata": {},
     "output_type": "execute_result"
    }
   ],
   "source": [
    "data[1][0]"
   ]
  },
  {
   "cell_type": "code",
   "execution_count": 64,
   "metadata": {},
   "outputs": [],
   "source": [
    "cursor.execute('COMMIT')"
   ]
  },
  {
   "cell_type": "code",
   "execution_count": 65,
   "metadata": {
    "scrolled": false
   },
   "outputs": [],
   "source": [
    "cursor.execute('set autocommit = 1')"
   ]
  },
  {
   "cell_type": "markdown",
   "metadata": {},
   "source": [
    "6. Update the data in the table"
   ]
  },
  {
   "cell_type": "code",
   "execution_count": 66,
   "metadata": {},
   "outputs": [],
   "source": [
    "update_query = \"UPDATE sales SET sale = 1500 WHERE sales_employee = 'Alice' AND fiscal_year = 2016\"\n"
   ]
  },
  {
   "cell_type": "code",
   "execution_count": 67,
   "metadata": {},
   "outputs": [],
   "source": [
    "cursor.execute(update_query)"
   ]
  },
  {
   "cell_type": "code",
   "execution_count": 68,
   "metadata": {},
   "outputs": [],
   "source": [
    "cursor.execute(select_query)"
   ]
  },
  {
   "cell_type": "code",
   "execution_count": 69,
   "metadata": {},
   "outputs": [
    {
     "data": {
      "text/plain": [
       "[('Alice', 2016, Decimal('1500.00')),\n",
       " ('Alice', 2017, Decimal('100.00')),\n",
       " ('Alice', 2018, Decimal('200.00')),\n",
       " ('Bob', 2016, Decimal('100.00')),\n",
       " ('Bob', 2017, Decimal('150.00')),\n",
       " ('Bob', 2018, Decimal('200.00')),\n",
       " ('John', 2016, Decimal('200.00')),\n",
       " ('John', 2017, Decimal('150.00')),\n",
       " ('John', 2018, Decimal('250.00'))]"
      ]
     },
     "execution_count": 69,
     "metadata": {},
     "output_type": "execute_result"
    }
   ],
   "source": [
    "cursor.fetchall()"
   ]
  },
  {
   "cell_type": "markdown",
   "metadata": {},
   "source": [
    "7. Delete records in a table"
   ]
  },
  {
   "cell_type": "code",
   "execution_count": 70,
   "metadata": {},
   "outputs": [],
   "source": [
    "delete_query = ''' DELETE FROM sales WHERE sale = 150'''"
   ]
  },
  {
   "cell_type": "code",
   "execution_count": 71,
   "metadata": {},
   "outputs": [],
   "source": [
    "cursor.execute(delete_query)"
   ]
  },
  {
   "cell_type": "code",
   "execution_count": 72,
   "metadata": {},
   "outputs": [],
   "source": [
    "cursor.execute(select_query)"
   ]
  },
  {
   "cell_type": "code",
   "execution_count": 73,
   "metadata": {},
   "outputs": [
    {
     "data": {
      "text/plain": [
       "[('Alice', 2016, Decimal('1500.00')),\n",
       " ('Alice', 2017, Decimal('100.00')),\n",
       " ('Alice', 2018, Decimal('200.00')),\n",
       " ('Bob', 2016, Decimal('100.00')),\n",
       " ('Bob', 2018, Decimal('200.00')),\n",
       " ('John', 2016, Decimal('200.00')),\n",
       " ('John', 2018, Decimal('250.00'))]"
      ]
     },
     "execution_count": 73,
     "metadata": {},
     "output_type": "execute_result"
    }
   ],
   "source": [
    "cursor.fetchall()"
   ]
  },
  {
   "cell_type": "markdown",
   "metadata": {},
   "source": [
    "8. Call Stored Procedures"
   ]
  },
  {
   "cell_type": "code",
   "execution_count": 74,
   "metadata": {},
   "outputs": [
    {
     "data": {
      "text/plain": [
       "True"
      ]
     },
     "execution_count": 74,
     "metadata": {},
     "output_type": "execute_result"
    }
   ],
   "source": [
    "# close the cursor\n",
    "\n",
    "cursor.close()"
   ]
  },
  {
   "cell_type": "code",
   "execution_count": 75,
   "metadata": {},
   "outputs": [],
   "source": [
    "db = mysql.connect(host = 'localhost', user = 'root', password = root_pwd, database = 'student')\n",
    "cursor = db.cursor()"
   ]
  },
  {
   "cell_type": "code",
   "execution_count": 76,
   "metadata": {},
   "outputs": [],
   "source": [
    "call_sp_query = 'CALL GetAllStudents'"
   ]
  },
  {
   "cell_type": "code",
   "execution_count": 77,
   "metadata": {},
   "outputs": [],
   "source": [
    "cursor.execute(call_sp_query)"
   ]
  },
  {
   "cell_type": "code",
   "execution_count": 78,
   "metadata": {},
   "outputs": [
    {
     "data": {
      "text/plain": [
       "[(1, 'Kiran Kumar', 23, 'Male', 'Data Science', Decimal('23000.00')),\n",
       " (2, 'Anirudh reddy', 20, 'Male', 'Data Science', Decimal('50000.00')),\n",
       " (3, 'Bhargavi', 22, 'Female', 'Data Analysis', Decimal('40000.00')),\n",
       " (4, 'Dharani', 20, 'Female', 'Data Analysis', Decimal('50000.00')),\n",
       " (5, 'gopal', 25, 'Male', 'SQL module', Decimal('50000.00')),\n",
       " (6,\n",
       "  'lasya Sharma',\n",
       "  22,\n",
       "  'female',\n",
       "  'Data Analysis and Data Science',\n",
       "  Decimal('50000.00')),\n",
       " (7, 'Jagdeesh', 25, 'Male', 'Machine Learning', Decimal('93490.00')),\n",
       " (8, 'Manasa', 22, 'Female', 'Data Analysis', Decimal('60000.00')),\n",
       " (9, 'Neharika', 19, 'Female', 'Machine Learning', Decimal('20000.00')),\n",
       " (10, 'Nelofar', 20, 'female', 'Data Science', Decimal('50000.00')),\n",
       " (11, 'Nikhil Kumar', 18, 'Male', 'Data Science', Decimal('10000.00')),\n",
       " (12, 'Praneeth', 26, 'Male', 'Data Analysis', Decimal('44000.00')),\n",
       " (13, 'Praveen', 30, 'Male', 'Data Science', Decimal('50000.00')),\n",
       " (14,\n",
       "  'Rakesh',\n",
       "  27,\n",
       "  'Male',\n",
       "  'Data Science and Data Analysis',\n",
       "  Decimal('66000.00')),\n",
       " (15, 'Rasagna Chiluka', 36, 'Male', 'Data Science', Decimal('20000.00')),\n",
       " (16, 'rubyna', 23, 'Feale', 'Web Scrapping', Decimal('10000.00')),\n",
       " (17, 'Sai Kumar', 28, 'Male', 'Web Scrapping', Decimal('20000.00')),\n",
       " (18, 'Shivanisaindla', 34, 'Female', 'Data Analysis', Decimal('44000.00')),\n",
       " (19, 'Sirajuddin Shoaib', 28, 'Male', 'Data Science', Decimal('98000.00')),\n",
       " (20, 'Suman Nayak', 22, 'Male', 'Data Analysis', Decimal('40000.00')),\n",
       " (21, 'Suryaa', 29, 'Male', 'Data Science', Decimal('90000.00')),\n",
       " (22, 'Varsha Phebe', 32, 'Female', 'Data Science', Decimal('84000.00')),\n",
       " (23, 'Vipin', 22, 'Male', 'Web Scrapping', Decimal('20000.00')),\n",
       " (24, 'Yash', 29, 'Male', 'Web Scrapping', Decimal('20000.00')),\n",
       " (25, 'Zayed Shaik', 31, 'Male', 'Web Scrapping', Decimal('10000.00')),\n",
       " (26, 'Archana', 23, 'Feale', 'Data Science', Decimal('24000.00')),\n",
       " (27,\n",
       "  'Bakkayolla Yashwanth',\n",
       "  24,\n",
       "  'Male',\n",
       "  'Data Analysis',\n",
       "  Decimal('54000.00')),\n",
       " (28, 'Bhani Cilver', 29, 'Female', 'Data Science', Decimal('44000.00')),\n",
       " (29, 'Bhavani', 20, 'Male', 'Web Scrapping', Decimal('50000.00')),\n",
       " (30, 'Bhavya', 25, 'Female', 'SQL module', Decimal('34000.00')),\n",
       " (31,\n",
       "  'Deepak Gudipudi',\n",
       "  52,\n",
       "  'Male',\n",
       "  'Data Analysis and Data Science',\n",
       "  Decimal('99000.00')),\n",
       " (32, 'Jawad', 23, 'Male', 'Data Analysis', Decimal('8342.00')),\n",
       " (33, 'Vikas', 20, 'Male', 'Machine Learning', Decimal('93420.00')),\n",
       " (34, 'Madhu', 21, 'Male', 'Data Analysis', Decimal('68000.00')),\n",
       " (35,\n",
       "  'Nheha Chaturvedi',\n",
       "  19,\n",
       "  'Female',\n",
       "  'Machine Learning',\n",
       "  Decimal('43000.00')),\n",
       " (36, 'Nheha Reddy', 21, 'Female', 'Data Science', Decimal('80000.00')),\n",
       " (37,\n",
       "  'Pravallika',\n",
       "  19,\n",
       "  'Female',\n",
       "  'Data Analysis and Data Science',\n",
       "  Decimal('60000.00')),\n",
       " (38, 'Ravikrishna', 20, 'Female', 'Data Analysis', Decimal('40000.00')),\n",
       " (39, 'Sreeram', 30, 'Male', 'Web Scrapping', Decimal('90000.00')),\n",
       " (40, 'Venkata Narasimha', 23, 'Male', 'Data Science', Decimal('70000.00')),\n",
       " (44, 'Harjas', 24, 'Male', 'Data Analysis', Decimal('40000.00')),\n",
       " (45, 'Manoj', 25, 'Male', 'Data Science', Decimal('80000.00'))]"
      ]
     },
     "execution_count": 78,
     "metadata": {},
     "output_type": "execute_result"
    }
   ],
   "source": [
    "cursor.fetchall()"
   ]
  },
  {
   "cell_type": "code",
   "execution_count": 85,
   "metadata": {},
   "outputs": [],
   "source": [
    "call_sp_query = 'CALL GetStubyCourse(\\'Data Science\\')'"
   ]
  },
  {
   "cell_type": "code",
   "execution_count": 80,
   "metadata": {},
   "outputs": [
    {
     "data": {
      "text/plain": [
       "True"
      ]
     },
     "execution_count": 80,
     "metadata": {},
     "output_type": "execute_result"
    }
   ],
   "source": [
    "cursor.close()"
   ]
  },
  {
   "cell_type": "code",
   "execution_count": 86,
   "metadata": {},
   "outputs": [],
   "source": [
    "db = mysql.connect(host = 'localhost', user = 'root', password = root_pwd, database = 'student')\n",
    "cursor = db.cursor()"
   ]
  },
  {
   "cell_type": "code",
   "execution_count": 87,
   "metadata": {},
   "outputs": [],
   "source": [
    "cursor.execute(call_sp_query)"
   ]
  },
  {
   "cell_type": "code",
   "execution_count": 88,
   "metadata": {},
   "outputs": [
    {
     "data": {
      "text/plain": [
       "[(1, 'Kiran Kumar', 23, 'Male', 'Data Science', Decimal('23000.00')),\n",
       " (2, 'Anirudh reddy', 20, 'Male', 'Data Science', Decimal('50000.00')),\n",
       " (10, 'Nelofar', 20, 'female', 'Data Science', Decimal('50000.00')),\n",
       " (11, 'Nikhil Kumar', 18, 'Male', 'Data Science', Decimal('10000.00')),\n",
       " (13, 'Praveen', 30, 'Male', 'Data Science', Decimal('50000.00')),\n",
       " (15, 'Rasagna Chiluka', 36, 'Male', 'Data Science', Decimal('20000.00')),\n",
       " (19, 'Sirajuddin Shoaib', 28, 'Male', 'Data Science', Decimal('98000.00')),\n",
       " (21, 'Suryaa', 29, 'Male', 'Data Science', Decimal('90000.00')),\n",
       " (22, 'Varsha Phebe', 32, 'Female', 'Data Science', Decimal('84000.00')),\n",
       " (26, 'Archana', 23, 'Feale', 'Data Science', Decimal('24000.00')),\n",
       " (28, 'Bhani Cilver', 29, 'Female', 'Data Science', Decimal('44000.00')),\n",
       " (36, 'Nheha Reddy', 21, 'Female', 'Data Science', Decimal('80000.00')),\n",
       " (40, 'Venkata Narasimha', 23, 'Male', 'Data Science', Decimal('70000.00')),\n",
       " (45, 'Manoj', 25, 'Male', 'Data Science', Decimal('80000.00'))]"
      ]
     },
     "execution_count": 88,
     "metadata": {},
     "output_type": "execute_result"
    }
   ],
   "source": [
    "cursor.fetchall()"
   ]
  },
  {
   "cell_type": "code",
   "execution_count": null,
   "metadata": {},
   "outputs": [],
   "source": []
  }
 ],
 "metadata": {
  "kernelspec": {
   "display_name": "Python 3 (ipykernel)",
   "language": "python",
   "name": "python3"
  },
  "language_info": {
   "codemirror_mode": {
    "name": "ipython",
    "version": 3
   },
   "file_extension": ".py",
   "mimetype": "text/x-python",
   "name": "python",
   "nbconvert_exporter": "python",
   "pygments_lexer": "ipython3",
   "version": "3.9.13"
  },
  "vscode": {
   "interpreter": {
    "hash": "dc07d24e2f18896857f0b2a651fe84ba40ce7b297e58d8804a308c8039f752a6"
   }
  }
 },
 "nbformat": 4,
 "nbformat_minor": 2
}
